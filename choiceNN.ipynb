{
 "cells": [
  {
   "cell_type": "code",
   "execution_count": 9,
   "metadata": {},
   "outputs": [],
   "source": [
    "import os\n",
    "import pandas as pd\n",
    "import pickle\n",
    "import tensorflow as tf\n",
    "import numpy as np\n",
    "import matplotlib.pyplot as plt\n",
    "%matplotlib inline\n",
    "\n",
    "from keras.models import Sequential\n",
    "from keras.layers import Dense, Dropout, Activation\n",
    "from sklearn.model_selection import train_test_split\n",
    "\n",
    "from sklearn.svm import SVC\n",
    "from sklearn.model_selection import GridSearchCV, train_test_split\n",
    "from sklearn.metrics import confusion_matrix\n",
    "from keras.wrappers.scikit_learn import KerasClassifier"
   ]
  },
  {
   "cell_type": "code",
   "execution_count": 2,
   "metadata": {},
   "outputs": [],
   "source": [
    "train_data_files = ['cross', 'dead', 'left', 'right', 'straight', 'threeway']\n",
    "# NUM_CLASSES = 6\n",
    "NUM_CLASSES = len(train_data_files)\n",
    "\n",
    "epochs = 120\n",
    "batch_size = 100\n",
    "\n",
    "RATIO_DROP_OUT1 = 0.25\n",
    "RATIO_DROP_OUT2 = 0.50\n",
    "unit_param = np.arange(50, LIMIT_UNIT_NUM, INCREMENT_UNIT_NUM)\n",
    "\n"
   ]
  },
  {
   "cell_type": "code",
   "execution_count": 11,
   "metadata": {},
   "outputs": [],
   "source": [
    "def split_data():\n",
    "    files = os.listdir('./data')\n",
    "    X = []\n",
    "    Y = []\n",
    "    all_data_set = []\n",
    "    labels = []\n",
    "\n",
    "\n",
    "    for i in range(NUM_CLASSES):\n",
    "        try:\n",
    "            # header = 列名\n",
    "            file_name = \"./data/\" + files[i]\n",
    "            data_set = pd.read_csv(file_name, header=None)\n",
    "            all_data_set.append(data_set)\n",
    "        \n",
    "            num_data_set = len(data_set)\n",
    "            print(num_data_set)\n",
    "\n",
    "            # one_hot_vectorを作りラベルとして追加\n",
    "            tmp = np.zeros((num_data_set, NUM_CLASSES))\n",
    "            tmp[:, i] = 1\n",
    "            labels.append(tmp)\n",
    "        except pd.io.common.EmptyDataError:\n",
    "            print(\"ERROR: {} is empty\".format(file_name))\n",
    "\n",
    "    X = pd.concat(all_data_set)\n",
    "    X = X.fillna(0)\n",
    "    Y = np.concatenate(labels, axis=0)\n",
    "\n",
    "#    _, DIM_input_data = data_set.shape\n",
    "\n",
    "    X_train, X_validation_and_test, Y_train, Y_validation_and_test = train_test_split(X, Y,train_size=0.6, test_size=0.4)\n",
    "    X_validation, X_test, Y_validation, Y_test = train_test_split(X_validation_and_test, Y_validation_and_test, train_size=0.5, test_size=0.5)\n",
    "\n",
    "    return X_train, X_validation, X_test, Y_train, Y_validation, Y_test"
   ]
  },
  {
   "cell_type": "code",
   "execution_count": 5,
   "metadata": {},
   "outputs": [],
   "source": [
    "def plt_result(epochs, history):\n",
    "    plt.plot(range(1, epochs+1), history.history['acc'], label=\"training\")\n",
    "    plt.plot(range(1, epochs+1), history.history['val_acc'], label=\"validation\")\n",
    "    plt.xlabel('Epochs')\n",
    "    plt.ylabel('Accuracy')\n",
    "    plt.legend()\n",
    "    plt.show()"
   ]
  },
  {
   "cell_type": "code",
   "execution_count": 64,
   "metadata": {},
   "outputs": [],
   "source": [
    "def param():\n",
    "    ret = {\n",
    "        'out_dim':[10, 100],\n",
    "        'optimizer':[\"adam\", \"adagrad\"]\n",
    "    }\n",
    "\n",
    "\n",
    "    return ret"
   ]
  },
  {
   "cell_type": "code",
   "execution_count": 52,
   "metadata": {},
   "outputs": [],
   "source": [
    "def make_model(activation=\"relu\", optimizer=\"adam\", out_dim=100, DIM_input_data=726):\n",
    "\n",
    "    model = Sequential()\n",
    "    model.add(Dense(out_dim, input_dim=DIM_input_data, activation=activation))\n",
    "    model.add(Dense(out_dim, activation=activation))   \n",
    "    model.add(Dense(NUM_CLASSES, activation=\"softmax\"))\n",
    "    model.compile(loss='categorical_crossentropy', optimizer=optimizer, metrics=['accuracy'])\n",
    "    return model"
   ]
  },
  {
   "cell_type": "code",
   "execution_count": 55,
   "metadata": {},
   "outputs": [
    {
     "name": "stdout",
     "output_type": "stream",
     "text": [
      "164\n",
      "285\n",
      "112\n",
      "ERROR: ./data/right.csv is empty\n",
      "3798\n",
      "696\n"
     ]
    }
   ],
   "source": [
    "if __name__ == \"__main__\":\n",
    "    X_train, X_validation, X_test, Y_train, Y_validation, Y_test = split_data()\n",
    "    _, DIM_input_data = X_train.shape\n"
   ]
  },
  {
   "cell_type": "code",
   "execution_count": null,
   "metadata": {},
   "outputs": [],
   "source": [
    "if __name__ == \"__main__\":\n",
    "    "
   ]
  },
  {
   "cell_type": "code",
   "execution_count": 72,
   "metadata": {},
   "outputs": [
    {
     "name": "stdout",
     "output_type": "stream",
     "text": [
      "164\n",
      "285\n",
      "112\n",
      "ERROR: ./data/right.csv is empty\n",
      "3798\n",
      "696\n",
      "0.7790966040813762\n",
      "{'out_dim': 200}\n",
      "_________________________________________________________________\n",
      "Layer (type)                 Output Shape              Param #   \n",
      "=================================================================\n",
      "dense_252 (Dense)            (None, 200)               145400    \n",
      "_________________________________________________________________\n",
      "dense_253 (Dense)            (None, 200)               40200     \n",
      "_________________________________________________________________\n",
      "dense_254 (Dense)            (None, 6)                 1206      \n",
      "=================================================================\n",
      "Total params: 186,806\n",
      "Trainable params: 186,806\n",
      "Non-trainable params: 0\n",
      "_________________________________________________________________\n"
     ]
    }
   ],
   "source": [
    "import numpy as np\n",
    "from sklearn import datasets, preprocessing\n",
    "from sklearn.model_selection import train_test_split\n",
    "from sklearn.model_selection import GridSearchCV\n",
    "from keras.models import Sequential\n",
    "from keras.layers.core import Dense, Activation\n",
    "from keras.utils import np_utils\n",
    "from keras import backend as K\n",
    "from keras.wrappers.scikit_learn import KerasClassifier\n",
    "\n",
    "\n",
    "# import data and divided it into training and test purposes\n",
    "X_train, X_validation, X_test, Y_train, Y_validation, Y_test = split_data()\n",
    "\n",
    "\n",
    "# Define model for iris classification\n",
    "def make_model(activation=\"relu\", optimizer=\"adam\", out_dim=100):\n",
    "    model = Sequential()\n",
    "    model.add(Dense(out_dim, input_dim=726, activation=activation))\n",
    "    model.add(Dense(out_dim, activation=activation))   \n",
    "    model.add(Dense(NUM_CLASSES, activation=\"softmax\"))\n",
    "    model.compile(loss='categorical_crossentropy', optimizer=optimizer, metrics=['accuracy'])\n",
    "    return model\n",
    "\n",
    "# Define options for parameters\n",
    "out_dim = [100, 200]\n",
    "\n",
    "\n",
    "# Retrieve model and parameter into GridSearchCV\n",
    "model = KerasClassifier(build_fn=make_model, verbose=0)\n",
    "param_grid = dict(out_dim=out_dim)\n",
    "grid = GridSearchCV(estimator=model, param_grid=param_grid)\n",
    "\n",
    "\n",
    "# Run grid search\n",
    "grid_result = grid.fit(X_train, Y_train)\n",
    "\n",
    "\n",
    "# Get the best score and the optimized mode\n",
    "print (grid_result.best_score_)\n",
    "print (grid_result.best_params_)\n",
    "\n",
    "# Now see the optimized model\n",
    "model = make_model(out_dim=grid_result.best_params_['out_dim'])\n",
    "model.summary()"
   ]
  },
  {
   "cell_type": "code",
   "execution_count": 3,
   "metadata": {},
   "outputs": [
    {
     "name": "stdout",
     "output_type": "stream",
     "text": [
      "121\n",
      "119\n",
      "ERROR: ./data/left.csv is empty\n",
      "ERROR: ./data/right.csv is empty\n",
      "1089\n",
      "482\n"
     ]
    }
   ],
   "source": [
    "model = Sequential()\n",
    "files = os.listdir('./data')\n",
    "X = []\n",
    "Y = []\n",
    "all_data_set = []\n",
    "labels = []\n",
    "\n",
    "\n",
    "for i in range(NUM_CLASSES):\n",
    "    try:\n",
    "        # header = 列名\n",
    "        file_name = \"./data/\" + files[i]\n",
    "        data_set = pd.read_csv(file_name, header=None)\n",
    "        all_data_set.append(data_set)\n",
    "        \n",
    "        num_data_set = len(data_set)\n",
    "        print(num_data_set)\n",
    "\n",
    "        # one_hot_vectorを作りラベルとして追加\n",
    "        tmp = np.zeros((num_data_set, NUM_CLASSES))\n",
    "        tmp[:, i] = 1\n",
    "        labels.append(tmp)\n",
    "    except pd.io.common.EmptyDataError:\n",
    "        print(\"ERROR: {} is empty\".format(file_name))\n",
    "\n",
    "X = pd.concat(all_data_set)\n",
    "X = X.fillna(0)\n",
    "Y = np.concatenate(labels, axis=0)\n",
    "\n",
    "_, DIM_input_data = data_set.shape"
   ]
  },
  {
   "cell_type": "code",
   "execution_count": 8,
   "metadata": {},
   "outputs": [
    {
     "ename": "NameError",
     "evalue": "name 'X' is not defined",
     "output_type": "error",
     "traceback": [
      "\u001b[0;31m---------------------------------------------------------------------------\u001b[0m",
      "\u001b[0;31mNameError\u001b[0m                                 Traceback (most recent call last)",
      "\u001b[0;32m<ipython-input-8-df064033577f>\u001b[0m in \u001b[0;36m<module>\u001b[0;34m\u001b[0m\n\u001b[0;32m----> 1\u001b[0;31m \u001b[0mX_train\u001b[0m\u001b[0;34m,\u001b[0m \u001b[0mX_validation_and_test\u001b[0m\u001b[0;34m,\u001b[0m \u001b[0mY_train\u001b[0m\u001b[0;34m,\u001b[0m \u001b[0mY_validation_and_test\u001b[0m \u001b[0;34m=\u001b[0m \u001b[0mtrain_test_split\u001b[0m\u001b[0;34m(\u001b[0m\u001b[0mX\u001b[0m\u001b[0;34m,\u001b[0m \u001b[0mY\u001b[0m\u001b[0;34m,\u001b[0m\u001b[0mtrain_size\u001b[0m\u001b[0;34m=\u001b[0m\u001b[0;36m0.6\u001b[0m\u001b[0;34m)\u001b[0m\u001b[0;34m\u001b[0m\u001b[0;34m\u001b[0m\u001b[0m\n\u001b[0m\u001b[1;32m      2\u001b[0m \u001b[0mX_validation\u001b[0m\u001b[0;34m,\u001b[0m \u001b[0mX_test\u001b[0m\u001b[0;34m,\u001b[0m \u001b[0mY_validation\u001b[0m\u001b[0;34m,\u001b[0m \u001b[0mY_test\u001b[0m \u001b[0;34m=\u001b[0m \u001b[0mtrain_test_split\u001b[0m\u001b[0;34m(\u001b[0m\u001b[0mX_validation_and_test\u001b[0m\u001b[0;34m,\u001b[0m \u001b[0mY_validation_and_test\u001b[0m\u001b[0;34m,\u001b[0m \u001b[0mtrain_size\u001b[0m\u001b[0;34m=\u001b[0m\u001b[0;36m0.5\u001b[0m\u001b[0;34m)\u001b[0m\u001b[0;34m\u001b[0m\u001b[0;34m\u001b[0m\u001b[0m\n",
      "\u001b[0;31mNameError\u001b[0m: name 'X' is not defined"
     ]
    }
   ],
   "source": [
    "X_train, X_validation_and_test, Y_train, Y_validation_and_test = train_test_split(X, Y,train_size=0.6)\n",
    "X_validation, X_test, Y_validation, Y_test = train_test_split(X_validation_and_test, Y_validation_and_test, train_size=0.5)"
   ]
  },
  {
   "cell_type": "code",
   "execution_count": null,
   "metadata": {},
   "outputs": [],
   "source": [
    "MAX_MID_LAYER = 4\n",
    "MAX_UNIT_NUM = 500\n",
    "MAX_acc = 0\n",
    "\n",
    "while Hidden_layer1 <= LIMIT_UNIT_NUM:\n",
    "    Hidden_layer1 += INCREMENT_UNIT_NUM\n",
    "    \n",
    "\n",
    "\n",
    "\n",
    "\n",
    "\n",
    "\n",
    "model.add(Dense(DIM_HIDDEN1, input_dim = DIM_input_data, activation='relu'))\n",
    "model.add(Dropout(RATIO_DROP_OUT1))\n",
    "\n",
    "for j in range(MAX_MID_LAYER):\n",
    "    model.add(Dense(DIM_HIDDEN2, activation='relu'))\n",
    "    if j == MAX_MID_LAYER:\n",
    "        model.add(Dropout(RATIO_DROP_OUT2))\n",
    "    else:\n",
    "        model.add(Dropout(RATIO_DROP_OUT1))\n",
    "\n",
    "model.add(Dense(NUM_CLASSES, activation='softmax'))\n",
    "\n",
    "model.compile(optimizer='adam', loss='mean_squared_error', metrics=['accuracy'])\n",
    "history = model.fit(X_train, Y_train, batch_size=batch_size, epochs=epochs, verbose=0, validation_data=(X_validation, Y_validation))\n",
    "    "
   ]
  },
  {
   "cell_type": "code",
   "execution_count": 5,
   "metadata": {},
   "outputs": [
    {
     "name": "stdout",
     "output_type": "stream",
     "text": [
      "WARNING:tensorflow:From /opt/conda/lib/python3.7/site-packages/tensorflow/python/framework/op_def_library.py:263: colocate_with (from tensorflow.python.framework.ops) is deprecated and will be removed in a future version.\n",
      "Instructions for updating:\n",
      "Colocations handled automatically by placer.\n",
      "WARNING:tensorflow:From /opt/conda/lib/python3.7/site-packages/keras/backend/tensorflow_backend.py:3445: calling dropout (from tensorflow.python.ops.nn_ops) with keep_prob is deprecated and will be removed in a future version.\n",
      "Instructions for updating:\n",
      "Please use `rate` instead of `keep_prob`. Rate should be set to `rate = 1 - keep_prob`.\n",
      "WARNING:tensorflow:From /opt/conda/lib/python3.7/site-packages/tensorflow/python/ops/math_ops.py:3066: to_int32 (from tensorflow.python.ops.math_ops) is deprecated and will be removed in a future version.\n",
      "Instructions for updating:\n",
      "Use tf.cast instead.\n"
     ]
    }
   ],
   "source": [
    "MAX_MID_LAYER = 4\n",
    "MAX_UNIT_NUM = 500\n",
    "MAX_acc = 0\n",
    "\n",
    "DIM_HIDDEN1 = 100\n",
    "DIM_HIDDEN2 = 100\n",
    "\n",
    "\n",
    "model.add(Dense(DIM_HIDDEN1, input_dim = DIM_input_data, activation='relu'))\n",
    "model.add(Dropout(RATIO_DROP_OUT1))\n",
    "\n",
    "for j in range(MAX_MID_LAYER):\n",
    "    model.add(Dense(DIM_HIDDEN2, activation='relu'))\n",
    "    if j == MAX_MID_LAYER:\n",
    "        model.add(Dropout(RATIO_DROP_OUT2))\n",
    "    else:\n",
    "        model.add(Dropout(RATIO_DROP_OUT1))\n",
    "\n",
    "model.add(Dense(NUM_CLASSES, activation='softmax'))\n",
    "\n",
    "model.compile(optimizer='adam', loss='mean_squared_error', metrics=['accuracy'])\n",
    "history = model.fit(X_train, Y_train, batch_size=batch_size, epochs=epochs, verbose=0, validation_data=(X_validation, Y_validation))\n",
    "    "
   ]
  },
  {
   "cell_type": "code",
   "execution_count": 6,
   "metadata": {},
   "outputs": [
    {
     "data": {
      "image/png": "[encoded data removed]",
      "text/plain": [
       "<Figure size 432x288 with 1 Axes>"
      ]
     },
     "metadata": {
      "needs_background": "light"
     },
     "output_type": "display_data"
    }
   ],
   "source": [
    "plt.plot(range(1, epochs+1), history.history['acc'], label=\"training\")\n",
    "plt.plot(range(1, epochs+1), history.history['val_acc'], label=\"validation\")\n",
    "plt.xlabel('Epochs')\n",
    "plt.ylabel('Accuracy')\n",
    "plt.legend()\n",
    "plt.show()"
   ]
  },
  {
   "cell_type": "code",
   "execution_count": null,
   "metadata": {},
   "outputs": [],
   "source": []
  }
 ],
 "metadata": {
  "kernelspec": {
   "display_name": "Python 3",
   "language": "python",
   "name": "python3"
  },
  "language_info": {
   "codemirror_mode": {
    "name": "ipython",
    "version": 3
   },
   "file_extension": ".py",
   "mimetype": "text/x-python",
   "name": "python",
   "nbconvert_exporter": "python",
   "pygments_lexer": "ipython3",
   "version": "3.7.3"
  }
 },
 "nbformat": 4,
 "nbformat_minor": 2
}
