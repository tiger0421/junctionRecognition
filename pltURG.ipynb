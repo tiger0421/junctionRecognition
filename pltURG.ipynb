{
 "cells": [
  {
   "cell_type": "code",
   "execution_count": 1,
   "metadata": {
    "colab": {},
    "colab_type": "code",
    "id": "LT7drR5ZrM2U"
   },
   "outputs": [],
   "source": [
    "import os\n",
    "import pandas as pd\n",
    "import numpy as np\n",
    "import seaborn as sns\n",
    "import matplotlib.pyplot as plt\n",
    "%matplotlib inline"
   ]
  },
  {
   "cell_type": "markdown",
   "metadata": {
    "colab_type": "text",
    "id": "LnIo5PcgrM2b"
   },
   "source": [
    "## Define"
   ]
  },
  {
   "cell_type": "code",
   "execution_count": 2,
   "metadata": {},
   "outputs": [],
   "source": [
    "#TRAIN_DATA_FILES = ['cross','dead', 'left', 'right', 'straight', 'threeway']\n",
    "#TRAIN_DATA_FILES = ['straight']\n",
    "TRAIN_DATA_FILES = ['2-18F-50cm']\n",
    "# NUM_CLASSES = 6\n",
    "NUM_CLASSES = len(TRAIN_DATA_FILES)\n",
    "\n",
    "MAX_ANGLE = 240\n",
    "MAX_RANGE = 4 #[m]\n",
    "LIDAR_HZ = 4.0\n",
    "\n",
    "NUM_READ_DATA = 400\n",
    "REPLACE_NAN = 0.0\n",
    "\n",
    "MAKE_DECIMAL = 1000\n",
    "MAP_BUILD_HZ = 1.0\n",
    "MAX_SPEED = 1.0\n",
    "MARGIN = 1.5\n",
    "RESOLUTION = 0.5 #[m]\n",
    "WIDTH = HEIGHT = int(2*(1/RESOLUTION * (MAX_RANGE + MAX_SPEED/MAP_BUILD_HZ))*MARGIN)\n",
    "ROBOT_ORIGIN = (np.trunc(WIDTH/2)+(np.trunc(HEIGHT/2)/MAKE_DECIMAL))\n"
   ]
  },
  {
   "cell_type": "markdown",
   "metadata": {
    "colab_type": "text",
    "id": "TQL65DQKrM2g"
   },
   "source": [
    "## 学習データ数の読み込み用関数  \n",
    "データ読み込み時、それぞれのラベルの学習データの内、最も数の少ないものに合わせる"
   ]
  },
  {
   "cell_type": "code",
   "execution_count": 3,
   "metadata": {
    "colab": {},
    "colab_type": "code",
    "id": "xgqfnLiurM2h"
   },
   "outputs": [],
   "source": [
    "def adjust_data_num(num_class):\n",
    "    # header = 列名\n",
    "    file_name = \"./data/\" + TRAIN_DATA_FILES[num_class] + '.csv'\n",
    "    data_set = pd.read_csv(file_name, header=None)\n",
    "\n",
    "#    return data_set.head(NUM_READ_DATA)\n",
    "    return data_set"
   ]
  },
  {
   "cell_type": "markdown",
   "metadata": {
    "colab_type": "text",
    "id": "hI35WoeorM2k"
   },
   "source": [
    "## 学習データ読み込み用関数"
   ]
  },
  {
   "cell_type": "code",
   "execution_count": 4,
   "metadata": {
    "colab": {},
    "colab_type": "code",
    "id": "qP7O8VnZrM2k"
   },
   "outputs": [],
   "source": [
    "def split_data():\n",
    "    files = os.listdir('./data')\n",
    "    X = []\n",
    "    all_data_set = []\n",
    "\n",
    "    for i in range(NUM_CLASSES):\n",
    "        try:\n",
    "            data_set = adjust_data_num(i)\n",
    "            all_data_set.append(data_set)\n",
    "\n",
    "        except pd.io.common.EmptyDataError:\n",
    "            print(\"ERROR: {} is empty\".format(file_name))\n",
    "\n",
    "    X = pd.concat(all_data_set)\n",
    "    # replace Nan with 'REPLACE_NAN'\n",
    "    X = X.fillna(REPLACE_NAN)\n",
    "\n",
    "#    _, dim_input_data = data_set.shape\n",
    "\n",
    "    return X.values"
   ]
  },
  {
   "cell_type": "markdown",
   "metadata": {},
   "source": [
    "## 計算  \n",
    "距離データ →点群"
   ]
  },
  {
   "cell_type": "code",
   "execution_count": 5,
   "metadata": {},
   "outputs": [],
   "source": [
    "def calc_point_cloud(lidar_data):\n",
    "    resized_lidar_data = lidar_data / RESOLUTION\n",
    "    dim_input_data = resized_lidar_data.shape[0]\n",
    "\n",
    "    sin_table4x = [ [-np.sin(np.deg2rad((-MAX_ANGLE/2) + (i / dim_input_data * MAX_ANGLE))) for i in range(dim_input_data)]  ]\n",
    "    cos_table4y = [ [np.cos(np.deg2rad((-MAX_ANGLE/2) + (j / dim_input_data * MAX_ANGLE))) for j in range(dim_input_data)]  ]\n",
    "    \n",
    "    point_cloud_x = np.round(resized_lidar_data * sin_table4x) + (WIDTH / 2)\n",
    "    point_cloud_y = np.round(resized_lidar_data * cos_table4y) + (HEIGHT / 2)\n",
    "\n",
    "    return point_cloud_x, point_cloud_y"
   ]
  },
  {
   "cell_type": "markdown",
   "metadata": {},
   "source": [
    "## 重複した座標&robotの原点削除  \n",
    "整数部分にxの値を、小数部分にyの値を入れてnp.uniqueでダブりを削除"
   ]
  },
  {
   "cell_type": "code",
   "execution_count": 23,
   "metadata": {},
   "outputs": [],
   "source": [
    "def unique_point_cloud(point_cloud_x, point_cloud_y):\n",
    "    point_cloud_concatenate = np.trunc(point_cloud_x) + (np.trunc(point_cloud_y)/MAKE_DECIMAL)\n",
    "\n",
    "    print(np.sort(point_cloud_concatenate), \"\\n\")\n",
    "    \n",
    "    point_cloud_concatenate_unique = np.unique(point_cloud_concatenate)\n",
    "    point_cloud_concatenate_unique = np.delete(point_cloud_concatenate_unique, np.where(point_cloud_concatenate_unique==ROBOT_ORIGIN), axis=0)\n",
    "\n",
    "    print(np.sort(point_cloud_concatenate_unique))\n",
    "\n",
    "    # trunc=小数点以下切り捨て\n",
    "    point_cloud_x_unique = np.trunc(point_cloud_concatenate_unique)\n",
    "    point_cloud_y_unique = (point_cloud_concatenate_unique - point_cloud_x_unique) * MAKE_DECIMAL\n",
    "\n",
    "    return point_cloud_x_unique.astype(np.int32), point_cloud_y_unique.astype(np.int32)"
   ]
  },
  {
   "cell_type": "markdown",
   "metadata": {},
   "source": [
    "## インデックスを返す関数  \n",
    "grid mapを作成する際に使用  \n",
    "2次元の配列を1次元で表現したときのインデックスを返す"
   ]
  },
  {
   "cell_type": "code",
   "execution_count": 7,
   "metadata": {},
   "outputs": [],
   "source": [
    "def return_index(point_cloud_x, point_cloud_y):\n",
    "    return HEIGHT*point_cloud_y + point_cloud_x"
   ]
  },
  {
   "cell_type": "markdown",
   "metadata": {},
   "source": [
    "## grid img作成関数"
   ]
  },
  {
   "cell_type": "code",
   "execution_count": 8,
   "metadata": {},
   "outputs": [],
   "source": [
    "def make_grid_map(point_cloud_x, point_cloud_y):\n",
    "    fig, ax = plt.subplots(figsize=(5, 5))\n",
    "    grid_map1D = np.zeros(int(HEIGHT*WIDTH))\n",
    "    map_point_cloud1D = return_index(point_cloud_x, HEIGHT-point_cloud_y).astype(np.int32)\n",
    "    grid_map1D[map_point_cloud1D] = 255.0\n",
    "    grid_map = np.reshape(grid_map1D, (HEIGHT, WIDTH))\n",
    "\n",
    "    return grid_map"
   ]
  },
  {
   "cell_type": "markdown",
   "metadata": {
    "colab_type": "text",
    "id": "D0AymYf0EXsO"
   },
   "source": [
    "## Plot"
   ]
  },
  {
   "cell_type": "code",
   "execution_count": 9,
   "metadata": {},
   "outputs": [],
   "source": [
    "def plot_point_cloud(point_cloud_x, point_cloud_y, color=\"k\"):\n",
    "    fig, ax = plt.subplots(figsize=(5, 5))\n",
    "    plt.scatter(point_cloud_x, point_cloud_y, color=color)\n",
    "    ax.set_xlim(0, WIDTH)\n",
    "    ax.set_ylim(0, HEIGHT)\n",
    "\n",
    "#    plt.axis(\"off\")\n",
    "    #plt.savefig(\"result.png\", transparent = True)\n",
    "    plt.show()"
   ]
  },
  {
   "cell_type": "markdown",
   "metadata": {},
   "source": [
    "## 回転＆並進移動"
   ]
  },
  {
   "cell_type": "code",
   "execution_count": 10,
   "metadata": {},
   "outputs": [],
   "source": [
    "def trans_point_cloud(point_cloud_x, point_cloud_y, dx=0, dy=0, dtheta=0):\n",
    "    rotation_vector = np.array([[np.cos(dtheta), -np.sin(dtheta)], [np.sin(dtheta), np.cos(dtheta)]], dtype=np.float32)\n",
    "    point_cloud_XY = np.c_[point_cloud_x-(WIDTH/2), point_cloud_y-(HEIGHT/2)].T\n",
    "    trans_point_cloud = np.dot(rotation_vector, point_cloud_XY)\n",
    "    trans_point_cloud_x = trans_point_cloud[0] + (WIDTH/2) + (dx/RESOLUTION)\n",
    "    trans_point_cloud_y = trans_point_cloud[1] + (HEIGHT/2) + (dy/RESOLUTION)\n",
    "    \n",
    "    return trans_point_cloud_x, trans_point_cloud_y"
   ]
  },
  {
   "cell_type": "markdown",
   "metadata": {},
   "source": [
    "# main"
   ]
  },
  {
   "cell_type": "code",
   "execution_count": 11,
   "metadata": {},
   "outputs": [],
   "source": [
    "lidar_data = split_data()"
   ]
  },
  {
   "cell_type": "code",
   "execution_count": 12,
   "metadata": {},
   "outputs": [
    {
     "name": "stdout",
     "output_type": "stream",
     "text": [
      "plot with matplotlib\n"
     ]
    },
    {
     "data": {
      "image/png": "[encoded data removed]",
      "text/plain": [
       "<Figure size 360x360 with 1 Axes>"
      ]
     },
     "metadata": {
      "needs_background": "light"
     },
     "output_type": "display_data"
    },
    {
     "name": "stdout",
     "output_type": "stream",
     "text": [
      "show grid map\n",
      "show grid map after rotation and translation\n"
     ]
    },
    {
     "data": {
      "text/plain": [
       "<function matplotlib.pyplot.show(*args, **kw)>"
      ]
     },
     "execution_count": 12,
     "metadata": {},
     "output_type": "execute_result"
    },
    {
     "data": {
      "image/png": "[encoded data removed]",
      "text/plain": [
       "<Figure size 360x360 with 1 Axes>"
      ]
     },
     "metadata": {
      "needs_background": "light"
     },
     "output_type": "display_data"
    },
    {
     "data": {
      "image/png": "[encoded data removed]",
      "text/plain": [
       "<Figure size 360x360 with 1 Axes>"
      ]
     },
     "metadata": {
      "needs_background": "light"
     },
     "output_type": "display_data"
    }
   ],
   "source": [
    "index = 1\n",
    "prev_point_cloud_x, prev_point_cloud_y = calc_point_cloud(lidar_data[index])\n",
    "prev_point_cloud_x_unique, prev_point_cloud_y_unique = unique_point_cloud(prev_point_cloud_x, prev_point_cloud_y)\n",
    "\n",
    "print(\"plot with matplotlib\")\n",
    "plot_point_cloud(prev_point_cloud_x_unique, prev_point_cloud_y_unique)\n",
    "\n",
    "print(\"show grid map\")\n",
    "prev_grid_map = make_grid_map(prev_point_cloud_x_unique, prev_point_cloud_y_unique)\n",
    "plt.imshow(prev_grid_map)\n",
    "plt.gray()\n",
    "plt.show\n",
    "\n",
    "print(\"show grid map after rotation and translation\")\n",
    "prev_trans_point_cloud_x, prev_trans_point_cloud_y = trans_point_cloud(prev_point_cloud_x_unique, prev_point_cloud_y_unique, 0, 0.5, np.deg2rad(0))\n",
    "grid_map = make_grid_map(prev_trans_point_cloud_x.astype(np.int32), prev_trans_point_cloud_y.astype(np.int32))\n",
    "plt.imshow(grid_map)\n",
    "plt.gray()\n",
    "plt.show\n"
   ]
  },
  {
   "cell_type": "code",
   "execution_count": 13,
   "metadata": {},
   "outputs": [
    {
     "name": "stdout",
     "output_type": "stream",
     "text": [
      "plot with matplotlib\n"
     ]
    },
    {
     "data": {
      "image/png": "[encoded data removed]",
      "text/plain": [
       "<Figure size 360x360 with 1 Axes>"
      ]
     },
     "metadata": {
      "needs_background": "light"
     },
     "output_type": "display_data"
    },
    {
     "name": "stdout",
     "output_type": "stream",
     "text": [
      "show grid map\n"
     ]
    },
    {
     "data": {
      "text/plain": [
       "<function matplotlib.pyplot.show(*args, **kw)>"
      ]
     },
     "execution_count": 13,
     "metadata": {},
     "output_type": "execute_result"
    },
    {
     "data": {
      "image/png": "[encoded data removed]",
      "text/plain": [
       "<Figure size 360x360 with 1 Axes>"
      ]
     },
     "metadata": {
      "needs_background": "light"
     },
     "output_type": "display_data"
    }
   ],
   "source": [
    "index = 148\n",
    "point_cloud_x, point_cloud_y = calc_point_cloud(lidar_data[index])\n",
    "point_cloud_x_unique, point_cloud_y_unique = unique_point_cloud(point_cloud_x, point_cloud_y)\n",
    "\n",
    "print(\"plot with matplotlib\")\n",
    "plot_point_cloud(point_cloud_x_unique, point_cloud_y_unique)\n",
    "\n",
    "print(\"show grid map\")\n",
    "grid_map = make_grid_map(point_cloud_x_unique, point_cloud_y_unique)\n",
    "plt.imshow(grid_map)\n",
    "plt.gray()\n",
    "plt.show\n",
    " "
   ]
  },
  {
   "cell_type": "code",
   "execution_count": 14,
   "metadata": {},
   "outputs": [
    {
     "data": {
      "image/png": "[encoded data removed]",
      "text/plain": [
       "<Figure size 360x360 with 1 Axes>"
      ]
     },
     "metadata": {
      "needs_background": "light"
     },
     "output_type": "display_data"
    },
    {
     "data": {
      "image/png": "[encoded data removed]",
      "text/plain": [
       "<Figure size 360x360 with 1 Axes>"
      ]
     },
     "metadata": {
      "needs_background": "light"
     },
     "output_type": "display_data"
    },
    {
     "data": {
      "image/png": "[encoded data removed]",
      "text/plain": [
       "<Figure size 360x360 with 1 Axes>"
      ]
     },
     "metadata": {
      "needs_background": "light"
     },
     "output_type": "display_data"
    },
    {
     "data": {
      "image/png": "[encoded data removed]",
      "text/plain": [
       "<Figure size 360x360 with 1 Axes>"
      ]
     },
     "metadata": {
      "needs_background": "light"
     },
     "output_type": "display_data"
    },
    {
     "data": {
      "image/png": "[encoded data removed]",
      "text/plain": [
       "<Figure size 360x360 with 1 Axes>"
      ]
     },
     "metadata": {
      "needs_background": "light"
     },
     "output_type": "display_data"
    }
   ],
   "source": [
    "merged_point_cloud_x = np.append(prev_trans_point_cloud_x, point_cloud_x_unique)\n",
    "merged_point_cloud_y = np.append(prev_trans_point_cloud_y, point_cloud_y_unique)\n",
    "\n",
    "plot_point_cloud(prev_trans_point_cloud_x, prev_trans_point_cloud_y, color=\"b\")\n",
    "plot_point_cloud(point_cloud_x_unique, point_cloud_y_unique, color=\"r\")\n",
    "plot_point_cloud(merged_point_cloud_x, merged_point_cloud_y)\n",
    "\n",
    "merged_point_cloud_x_unique, merged_point_cloud_y_unique = unique_point_cloud(merged_point_cloud_x, merged_point_cloud_y)\n",
    "plot_point_cloud(merged_point_cloud_x_unique, merged_point_cloud_y_unique)\n",
    "\n",
    "merged_grid_map = make_grid_map(merged_point_cloud_x, merged_point_cloud_y)\n",
    "plt.imshow(merged_grid_map)\n",
    "plt.gray()\n",
    "plt.show()"
   ]
  },
  {
   "cell_type": "code",
   "execution_count": null,
   "metadata": {},
   "outputs": [],
   "source": []
  },
  {
   "cell_type": "code",
   "execution_count": 33,
   "metadata": {},
   "outputs": [],
   "source": [
    "merged_point_cloud_x = np.append(np.sort(prev_trans_point_cloud_x), np.sort(point_cloud_x_unique))\n",
    "merged_point_cloud_y = np.append(np.sort(prev_trans_point_cloud_y), np.sort(point_cloud_y_unique))\n",
    "\n"
   ]
  },
  {
   "cell_type": "code",
   "execution_count": 24,
   "metadata": {},
   "outputs": [
    {
     "name": "stdout",
     "output_type": "stream",
     "text": [
      "[11.022 12.013 12.021 12.022 13.013 13.015 13.016 13.018 13.019 14.016\n",
      " 14.016 16.018 16.019 17.013 17.015 17.015 17.016 17.018 18.018] \n",
      "\n",
      "[11.022 12.013 12.021 12.022 13.013 13.015 13.016 13.018 13.019 14.016\n",
      " 16.018 16.019 17.013 17.015 17.016 17.018 18.018]\n"
     ]
    },
    {
     "data": {
      "image/png": "[encoded data removed]",
      "text/plain": [
       "<Figure size 360x360 with 1 Axes>"
      ]
     },
     "metadata": {
      "needs_background": "light"
     },
     "output_type": "display_data"
    }
   ],
   "source": [
    "point_cloud_x_unique2, point_cloud_y_unique2 = unique_point_cloud(point_cloud_x_unique, point_cloud_y_unique)\n",
    "plot_point_cloud(merged_point_cloud_x_unique, merged_point_cloud_y_unique)\n"
   ]
  },
  {
   "cell_type": "code",
   "execution_count": 18,
   "metadata": {},
   "outputs": [
    {
     "name": "stdout",
     "output_type": "stream",
     "text": [
      "[11 12 12 12 13 13 13 13 13 14 14 16 16 17 17 17 17 17 18]\n",
      "[13 13 13 15 15 15 16 16 16 16 18 18 18 18 19 19 21 22 22]\n",
      "\n",
      "[11 12 12 12 13 13 13 13 13 14 16 16 17 17 17 17 18]\n",
      "[12 12 13 15 15 15 16 16 18 18 18 18 18 19 21 22 22]\n"
     ]
    }
   ],
   "source": [
    "print(np.sort(point_cloud_x_unique))\n",
    "print(np.sort(point_cloud_y_unique))\n",
    "print()\n",
    "print(np.sort(point_cloud_x_unique2))\n",
    "print(np.sort(point_cloud_y_unique2))\n"
   ]
  },
  {
   "cell_type": "code",
   "execution_count": null,
   "metadata": {},
   "outputs": [],
   "source": []
  },
  {
   "cell_type": "code",
   "execution_count": null,
   "metadata": {},
   "outputs": [],
   "source": []
  }
 ],
 "metadata": {
  "accelerator": "GPU",
  "colab": {
   "collapsed_sections": [],
   "name": "pltURG.ipynb",
   "provenance": [],
   "toc_visible": true,
   "version": "0.3.2"
  },
  "kernelspec": {
   "display_name": "Python 3",
   "language": "python",
   "name": "python3"
  },
  "language_info": {
   "codemirror_mode": {
    "name": "ipython",
    "version": 3
   },
   "file_extension": ".py",
   "mimetype": "text/x-python",
   "name": "python",
   "nbconvert_exporter": "python",
   "pygments_lexer": "ipython3",
   "version": "3.7.3"
  }
 },
 "nbformat": 4,
 "nbformat_minor": 2
}
